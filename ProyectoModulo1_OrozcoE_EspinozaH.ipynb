{
 "cells": [
  {
   "cell_type": "markdown",
   "metadata": {},
   "source": [
    "# Maximización de créditos."
   ]
  },
  {
   "cell_type": "markdown",
   "metadata": {},
   "source": [
    "**Objetivo General:**\n",
    "Se tiene como propósito aplicar los conocimientos obtenidos en el primer módulo de la materia. En este caso orientamos la práctica a la programación lineal en un caso de otorgamiento de créditos financieros.\n",
    "\n",
    "**Objetivos Especificos:**\n",
    "1. Plantear un problema financiero que se pueda resolver con programación lineal.\n",
    "2. Resolver dicho problema.\n",
    "3. Aumentar la complejidad vista en clase.\n",
    "4. Usar términos respecto al área trabajada.\n",
    "5. Mostrar que si se obtuvo el conocimiento de la clase.\n",
    "6. Saber resolver un problema relacionado a tu área.\n",
    "7. Reforzar los conocimiento previos."
   ]
  },
  {
   "cell_type": "markdown",
   "metadata": {},
   "source": [
    "Un fondo de inversión está ofreciendo una ronda de financiamiento para distintas PYMES. El fondo está ofreciendo 4'000,000 de pesos mexicanos distribuidos en las mejores propuestas. Lo máximo que el fondo está dispuesto a invertir en cada empresa es de 750,000 pesos. El objetivo del fondo ademas de ayudar a las PYMES, es maximizar los rendimientos.\n",
    "\n",
    "Existen nueve empresas interesadas en el financimiento propuesto por el fondo las cuales exigen lo siguiente:\n",
    "\n",
    "1. $E_1$:(Tasa de retorno=$9.25\\%$; Años para el retorno=5,Riesgo=BB)\n",
    "1. $E_2$:(Tasa de retorno=$8.40\\%$; Años para el retorno=5 Riesgo=BB)\n",
    "1. $E_3$:(Tasa de retorno=$11.25\\%$; Años para el retorno=4, Riesgo=BBB)\n",
    "1. $E_4$:(Tasa de retorno=$11.80\\%$; Años para el retorno=3, Riesgo=A)\n",
    "1. $E_5$:(Tasa de retorno=$10\\%$; Años para el retorno=1, Riesgo=AAA)\n",
    "1. $E_6$:(Tasa de retorno=$10.5\\%$; Años para el retorno=4, Riesgo=BBB)\n",
    "1. $E_7$:(Tasa de retorno=$12\\%$; Años para el retorno=2, Riesgo=AA)\n",
    "1. $E_8$:(Tasa de retorno=$6.0\\%$; Años para el retorno=5, Riesgo=BB)\n",
    "1. $E_9$:(Tasa de retorno=$9.6\\%$; Años para el retorno=5, Riesgo=BB)\n",
    "\n",
    "El fondo ha puesto ciertos requisitos para poder invertir en las empresas:\n",
    "\n",
    "Por lo menos un cuarto del dinero debe de ser invertido en empresas con retorno de al menos 5 años (Con el objetivo de que las PYMES tengan oportunidad de operar y pagar la deuda).\n",
    "\n",
    "La mitad del dinero o menos se le otorgará a las empresas que paguen el 10% o más de interés.\n",
    "\n",
    "Tres cuartos del dinero o menos iria para empresas B, BB O BBB.\n",
    "\n",
    "Un cuarto del dinero o menos iria para empresas A, AA o AAA.\n",
    "\n",
    "\n",
    "\n",
    "\n"
   ]
  },
  {
   "cell_type": "markdown",
   "metadata": {},
   "source": [
    "**Función objetivo:**\n",
    "\n",
    "$E_1+E_2+E_2+E_3+E_4+E_5+E_6+E_7+E_8+E_9=4000000$ Esta es la función a optimizar ya que estamos buscando máximizar el rendimiento según las exigencias del fondo de inversión. Entonces la suma de la inversión por empresa debería de dar el total de 4 millones.\n",
    "\n",
    "**Restricciones:**\n",
    "\n",
    "$E_1+E_2+E_8+E_9$ $\\geq 1000000$ Esta desigualdad representa la primera restricción. Ya que nos dice que solo se podrá invertir un cuarto de los 4 millones a empresas que tengan un retorno de al menos 5 años.\n",
    "\n",
    "$E_3+E_4+E_5+E_6+E_7$ $\\leq 2000000$ Esta desigualdad representa la segunda restricción. Según el enunciado la mitad que son 2 millones serán invertidos en empresas que paguen las tasas más altas (a partir del 10%).\n",
    "\n",
    "$E_1+E_2+E_3+E_6+E_8+E_9$ $\\leq 3000000$ Esta desigualdad representa la tercera restricción. Se nos plantea que para poder invertir dinero, solo tres cuartos de este (3 millones) podrán ir a empresas con una calificación créditcia de B-BBB.\n",
    "\n",
    "$E_4+E_5+E_7$ $\\leq 1000000$ Esta desigualdad representa la cuarta restricción. Se nos plantea que para poder invertir dinero, solo un cuarto de este (1 millon) podrán ir a empresas con una calificación créditcia de A-AAA.\n",
    "\n",
    "El problema se basa en una ronda de financiamiento ofrecida por un fondo de inversión algunos. En esta ronda se inscribieron diversas empresas pero no todas cumplirán con las condiciones establecidas por el fondo. \n",
    "\n",
    "Se tendrán como parámetros las tasas de interés/retorno que las empresas están ofreciendo para poder sacar el máximo rendimiento.\n",
    "\n",
    "\n",
    "\n"
   ]
  },
  {
   "cell_type": "code",
   "execution_count": 10,
   "metadata": {},
   "outputs": [],
   "source": [
    "import scipy.optimize as opt\n",
    "import numpy as np\n",
    "import sympy as sym"
   ]
  },
  {
   "cell_type": "code",
   "execution_count": 1,
   "metadata": {},
   "outputs": [],
   "source": [
    "import pandas as pd"
   ]
  },
  {
   "cell_type": "code",
   "execution_count": 11,
   "metadata": {},
   "outputs": [],
   "source": [
    "c=np.array([-.0925,-.084,-.1125,-.1180,-.10,-.105,-.12,-.06,-.096])\n",
    "A=np.array([[-1,-1,0,0,0,0,0,-1,-1],[0,0,1,1,1,1,1,0,0],[1,1,1,0,0,1,0,1,1],[0,0,0,1,1,0,1,0,0]])\n",
    "b=np.array([-1000000,2000000,3000000,1000000])\n",
    "Ae=np.array([[1,1,1,1,1,1,1,1,1]])\n",
    "be=np.array([4000000])"
   ]
  },
  {
   "cell_type": "code",
   "execution_count": 12,
   "metadata": {},
   "outputs": [
    {
     "data": {
      "text/plain": [
       "     con: array([0.])\n",
       "     fun: -413500.0\n",
       " message: 'Optimization terminated successfully.'\n",
       "     nit: 21\n",
       "   slack: array([1000000.,       0.,       0.,       0.])\n",
       "  status: 0\n",
       " success: True\n",
       "       x: array([750000., 500000., 750000., 250000.,      0., 250000., 750000.,\n",
       "            0., 750000.])"
      ]
     },
     "execution_count": 12,
     "metadata": {},
     "output_type": "execute_result"
    }
   ],
   "source": [
    "sol=opt.linprog(c,A,b,Ae,be,bounds=(0,.1875*4000000),method='simplex')\n",
    "sol"
   ]
  },
  {
   "cell_type": "code",
   "execution_count": 8,
   "metadata": {},
   "outputs": [
    {
     "data": {
      "text/html": [
       "<div>\n",
       "<style scoped>\n",
       "    .dataframe tbody tr th:only-of-type {\n",
       "        vertical-align: middle;\n",
       "    }\n",
       "\n",
       "    .dataframe tbody tr th {\n",
       "        vertical-align: top;\n",
       "    }\n",
       "\n",
       "    .dataframe thead th {\n",
       "        text-align: right;\n",
       "    }\n",
       "</style>\n",
       "<table border=\"1\" class=\"dataframe\">\n",
       "  <thead>\n",
       "    <tr style=\"text-align: right;\">\n",
       "      <th></th>\n",
       "      <th>Empresa</th>\n",
       "      <th>Tasa de retorno</th>\n",
       "      <th>Periodo de retorno</th>\n",
       "      <th>Riesgo de empresa</th>\n",
       "    </tr>\n",
       "  </thead>\n",
       "  <tbody>\n",
       "    <tr>\n",
       "      <th>0</th>\n",
       "      <td>E_1</td>\n",
       "      <td>9.25%</td>\n",
       "      <td>5</td>\n",
       "      <td>BB</td>\n",
       "    </tr>\n",
       "    <tr>\n",
       "      <th>1</th>\n",
       "      <td>E_2</td>\n",
       "      <td>8.40%</td>\n",
       "      <td>5</td>\n",
       "      <td>BB</td>\n",
       "    </tr>\n",
       "    <tr>\n",
       "      <th>2</th>\n",
       "      <td>E_3</td>\n",
       "      <td>11.25%</td>\n",
       "      <td>4</td>\n",
       "      <td>BBB</td>\n",
       "    </tr>\n",
       "    <tr>\n",
       "      <th>3</th>\n",
       "      <td>E_4</td>\n",
       "      <td>11.80%</td>\n",
       "      <td>3</td>\n",
       "      <td>A</td>\n",
       "    </tr>\n",
       "    <tr>\n",
       "      <th>4</th>\n",
       "      <td>E_5</td>\n",
       "      <td>10.00%</td>\n",
       "      <td>1</td>\n",
       "      <td>AAA</td>\n",
       "    </tr>\n",
       "    <tr>\n",
       "      <th>5</th>\n",
       "      <td>E_6</td>\n",
       "      <td>10.50%</td>\n",
       "      <td>4</td>\n",
       "      <td>BBB</td>\n",
       "    </tr>\n",
       "    <tr>\n",
       "      <th>6</th>\n",
       "      <td>E_7</td>\n",
       "      <td>12.00%</td>\n",
       "      <td>2</td>\n",
       "      <td>AAA</td>\n",
       "    </tr>\n",
       "    <tr>\n",
       "      <th>7</th>\n",
       "      <td>E_8</td>\n",
       "      <td>6.00%</td>\n",
       "      <td>5</td>\n",
       "      <td>BB</td>\n",
       "    </tr>\n",
       "    <tr>\n",
       "      <th>8</th>\n",
       "      <td>E_9</td>\n",
       "      <td>9.60%</td>\n",
       "      <td>5</td>\n",
       "      <td>BB</td>\n",
       "    </tr>\n",
       "  </tbody>\n",
       "</table>\n",
       "</div>"
      ],
      "text/plain": [
       "  Empresa Tasa de retorno  Periodo de retorno Riesgo de empresa\n",
       "0     E_1           9.25%                   5                BB\n",
       "1     E_2           8.40%                   5                BB\n",
       "2     E_3          11.25%                   4               BBB\n",
       "3     E_4          11.80%                   3                 A\n",
       "4     E_5          10.00%                   1               AAA\n",
       "5     E_6          10.50%                   4               BBB\n",
       "6     E_7          12.00%                   2               AAA\n",
       "7     E_8           6.00%                   5                BB\n",
       "8     E_9           9.60%                   5                BB"
      ]
     },
     "execution_count": 8,
     "metadata": {},
     "output_type": "execute_result"
    }
   ],
   "source": [
    "data=pd.read_csv('datosP.csv')\n",
    "data"
   ]
  },
  {
   "cell_type": "code",
   "execution_count": 2,
   "metadata": {},
   "outputs": [
    {
     "data": {
      "text/html": [
       "<div>\n",
       "<style scoped>\n",
       "    .dataframe tbody tr th:only-of-type {\n",
       "        vertical-align: middle;\n",
       "    }\n",
       "\n",
       "    .dataframe tbody tr th {\n",
       "        vertical-align: top;\n",
       "    }\n",
       "\n",
       "    .dataframe thead th {\n",
       "        text-align: right;\n",
       "    }\n",
       "</style>\n",
       "<table border=\"1\" class=\"dataframe\">\n",
       "  <thead>\n",
       "    <tr style=\"text-align: right;\">\n",
       "      <th></th>\n",
       "      <th>Empresa</th>\n",
       "      <th>Prestamo Maximizado</th>\n",
       "    </tr>\n",
       "  </thead>\n",
       "  <tbody>\n",
       "    <tr>\n",
       "      <th>0</th>\n",
       "      <td>E_1</td>\n",
       "      <td>$750,000.00</td>\n",
       "    </tr>\n",
       "    <tr>\n",
       "      <th>1</th>\n",
       "      <td>E_2</td>\n",
       "      <td>$500,000.00</td>\n",
       "    </tr>\n",
       "    <tr>\n",
       "      <th>2</th>\n",
       "      <td>E_3</td>\n",
       "      <td>$750,000.00</td>\n",
       "    </tr>\n",
       "    <tr>\n",
       "      <th>3</th>\n",
       "      <td>E_4</td>\n",
       "      <td>$250,000.00</td>\n",
       "    </tr>\n",
       "    <tr>\n",
       "      <th>4</th>\n",
       "      <td>E_5</td>\n",
       "      <td>$-</td>\n",
       "    </tr>\n",
       "    <tr>\n",
       "      <th>5</th>\n",
       "      <td>E_6</td>\n",
       "      <td>$250,000.00</td>\n",
       "    </tr>\n",
       "    <tr>\n",
       "      <th>6</th>\n",
       "      <td>E_7</td>\n",
       "      <td>$750,000.00</td>\n",
       "    </tr>\n",
       "    <tr>\n",
       "      <th>7</th>\n",
       "      <td>E_8</td>\n",
       "      <td>$-</td>\n",
       "    </tr>\n",
       "    <tr>\n",
       "      <th>8</th>\n",
       "      <td>E_9</td>\n",
       "      <td>$750,000.00</td>\n",
       "    </tr>\n",
       "    <tr>\n",
       "      <th>9</th>\n",
       "      <td>Presupuesto</td>\n",
       "      <td>$4,000,000.00</td>\n",
       "    </tr>\n",
       "  </tbody>\n",
       "</table>\n",
       "</div>"
      ],
      "text/plain": [
       "       Empresa Prestamo Maximizado\n",
       "0          E_1        $750,000.00 \n",
       "1          E_2        $500,000.00 \n",
       "2          E_3        $750,000.00 \n",
       "3          E_4        $250,000.00 \n",
       "4          E_5               $-   \n",
       "5          E_6        $250,000.00 \n",
       "6          E_7        $750,000.00 \n",
       "7          E_8               $-   \n",
       "8          E_9        $750,000.00 \n",
       "9  Presupuesto      $4,000,000.00 "
      ]
     },
     "execution_count": 2,
     "metadata": {},
     "output_type": "execute_result"
    }
   ],
   "source": [
    "datos=pd.read_csv('respuesta.csv')\n",
    "datos"
   ]
  },
  {
   "attachments": {},
   "cell_type": "markdown",
   "metadata": {},
   "source": [
    "**Conclusión: **\n",
    "\n",
    "\n",
    "Usando la programación lineal establecemos que las mejores empresas para dar un préstamo de capital y que nos devuelva mayor utilidad con sus tasas de retorno son E_1, E_2, E_3, E_4, E_6, E_7 y  E_9. Además cumplimos el objetivo y sabemos que esta es la forma para optener capitalización máxima que nuestras restricciones nos permiten. En general, creemos que logramos aumentar el nivel de dificultad visto en clase y que aplicamos de forma correcta todo lo visto. El problema, a pesar de que no fue sencillo de plantear, creemos que fue uno muy completo y que abarca todos los requisitos de los objetivos, la materia y el profesor. Reforzamos mucho el tema de programación lineal ya que era el de más interés para los integrantes del equipo y aunado a esto, el que más se requiere en nuestra área profesional.\n"
   ]
  },
  {
   "cell_type": "code",
   "execution_count": null,
   "metadata": {},
   "outputs": [],
   "source": []
  }
 ],
 "metadata": {
  "kernelspec": {
   "display_name": "Python 3",
   "language": "python",
   "name": "python3"
  },
  "language_info": {
   "codemirror_mode": {
    "name": "ipython",
    "version": 3
   },
   "file_extension": ".py",
   "mimetype": "text/x-python",
   "name": "python",
   "nbconvert_exporter": "python",
   "pygments_lexer": "ipython3",
   "version": "3.8.3"
  }
 },
 "nbformat": 4,
 "nbformat_minor": 4
}
